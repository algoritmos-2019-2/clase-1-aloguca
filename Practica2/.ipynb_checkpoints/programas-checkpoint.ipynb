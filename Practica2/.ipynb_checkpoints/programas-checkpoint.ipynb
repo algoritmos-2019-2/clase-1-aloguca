{
 "cells": [
  {
   "cell_type": "code",
   "execution_count": null,
   "metadata": {},
   "outputs": [],
   "source": [
    "#testPrime()\n",
    "def testPrime(n):\n",
    "    #Definimos la funcion que verificara si el numero es primo o no\n",
    "    print (\"Verificar si un numero es primo\") \n",
    "    a = 0 #Sera el acumulable dentro del for para ver cuantas veces se cumple la condicion\n",
    "    for i in range (1, n + 1): #El for inicializara en 1 e ira hasta n+1\n",
    "        if n % i == 0: #Estamos indicando que la condicion del if es que el residuo entre n e i debe ser igual a 0, donde i es todos los numeros anteriores\n",
    "            a = a + 1 #Si el residuo es 0 sumara 1 cada vez que se divida a la variable\n",
    "    \n",
    "    if a != 2: #La condicion indica que si el valor de a es diferente a 2, entonces nos dira que no es primo\n",
    "        print (n, \"no es un numero primo.\")\n",
    "        \n",
    "    else: #Else sera la opcion cuando a es igual a 2, lo que indica que es un numero primo\n",
    "        print (n, \"es un numero primo.\")           "
   ]
  },
  {
   "cell_type": "code",
   "execution_count": null,
   "metadata": {},
   "outputs": [],
   "source": [
    "testPrime (15) #Ejecutamos la funcion      "
   ]
  },
  {
   "cell_type": "code",
   "execution_count": null,
   "metadata": {},
   "outputs": [],
   "source": [
    "#prime ()\n",
    "def prime (n):\n",
    "    #Definimos la funcion que imprimira los numeros primos menores a n\n",
    "    print (\"Primos menores a n, donde n es\", n)\n",
    "    for i in range (2, n): #El primero for ira corriendo los numeros inciando en 2 hasta n\n",
    "        for j in range (2, i): #El segundo for entrara a un bucle donde se verificara si el numero es primo o no\n",
    "            if i % j != 0: #La condicion del if es que el residuo entre i y j debe ser diferente a 0\n",
    "                continue #Si es diferente, entonces el bucle if continuara al for porque esto indicara que i es primo\n",
    "            else: #En el caso de que no lo sea, el bucle se rompera, esto indicaria que i no es primo\n",
    "                break\n",
    "        else: #Por ultimo al final del primer for, tenemos acumulables los numero primos\n",
    "            print ('%d' % i) #Lo que indicamos es que imprima los numeros primos "
   ]
  },
  {
   "cell_type": "code",
   "execution_count": null,
   "metadata": {
    "scrolled": true
   },
   "outputs": [],
   "source": [
    "prime (50) #Ejecutamos la funcion"
   ]
  },
  {
   "cell_type": "code",
   "execution_count": 37,
   "metadata": {},
   "outputs": [],
   "source": [
    "#twinPrime ()\n",
    "def twinPrime (n):\n",
    "    print (\"Tupla con los primos gemelos a n\")\n",
    "    lista = []\n",
    "    \n",
    "    for i in range (2, n):\n",
    "        for j in range (2, i): \n",
    "            if i % j != 0:\n",
    "                continue\n",
    "            else: \n",
    "                break\n",
    "    \n",
    "        else:     \n",
    "            tupla_primos = []\n",
    "            primo = i,\n",
    "            tupla_primos += primo\n",
    "            lista.append (tupla_primos)\n",
    "    #print (lista)\n",
    "    for i in range (len(lista) - 1):\n",
    "        if (lista[i+1][0] - lista [i][0]) == 2:\n",
    "            lista [i].append (lista [i + 1][0])\n",
    "        else:\n",
    "            #lista.remove (lista [i])\n",
    "            continue\n",
    "    for elemento in lista:\n",
    "        if (len(elemento) == 2):\n",
    "            print (tuple(elemento),end=\" \")\n",
    "            #tupla_gemelos = (elemento,)\n",
    "            #print (tupla_gemelos,end=\" \")\n",
    "    \n",
    "    \n",
    "\n",
    "            \n",
    "    \n"
   ]
  },
  {
   "cell_type": "code",
   "execution_count": 38,
   "metadata": {},
   "outputs": [
    {
     "name": "stdout",
     "output_type": "stream",
     "text": [
      "Tupla con los primos gemelos a n\n",
      "(3, 5) (5, 7) (11, 13) (17, 19) (29, 31) (41, 43) (59, 61) (71, 73) "
     ]
    }
   ],
   "source": [
    "twinPrime (80)"
   ]
  },
  {
   "cell_type": "code",
   "execution_count": null,
   "metadata": {},
   "outputs": [],
   "source": [
    "#theoremArithmetic ()\n",
    "def theoremArithmetic (n):\n",
    "    print (\"Descomposicion en potencias de primos para cualquier n\")\n",
    "    #Definimos la funcion que descompondra el numero n en potencias primos\n",
    "    x = 2\n",
    "    print (\"Las potencias son: \")\n",
    "    \n",
    "    while (n != 1): #Indicamos que mientras n sea diferente a 1\n",
    "        if (n % x == 0): #\n",
    "            print (str (x))\n",
    "            n = n / x\n",
    "        \n",
    "        else:\n",
    "            x = x + 1"
   ]
  },
  {
   "cell_type": "code",
   "execution_count": null,
   "metadata": {},
   "outputs": [],
   "source": [
    "theoremArithmetic (80)"
   ]
  },
  {
   "cell_type": "code",
   "execution_count": null,
   "metadata": {},
   "outputs": [],
   "source": [
    "#mcm\n",
    "def mcm (n, m):\n",
    "    print (\"Minimo comun multiplo de dos enteros\")\n",
    "    #Definimos la funcion que obtendra el MCD de dos enteros\n",
    "    a = max (n, m)\n",
    "    b = min (n, m)\n",
    "    \n",
    "    while (b != 0):\n",
    "        mcd = b\n",
    "        b = a % b\n",
    "        a = mcd\n",
    "\n",
    "    a = max(n, m)\n",
    "    b = min(n, m)\n",
    "\n",
    "    mcm = (a / mcd) * b\n",
    "    print (\"El M.C.M entre: \", n, \" y \", m, \"es: \", mcm)    "
   ]
  },
  {
   "cell_type": "code",
   "execution_count": null,
   "metadata": {},
   "outputs": [],
   "source": [
    "mcm (12, 18)"
   ]
  },
  {
   "cell_type": "code",
   "execution_count": null,
   "metadata": {},
   "outputs": [],
   "source": [
    "#MCD\n",
    "def MCD (n, m):\n",
    "    print (\"Maximo comun divisor de dos enteros\")\n",
    "    #Definimos la funcion que obtendra el MCD de dos enteros\n",
    "    mcd = 0\n",
    "    a = max (n, m)\n",
    "    b = min (n, m)\n",
    "    \n",
    "    while (b != 0):\n",
    "        mcd = b\n",
    "        b = a % b\n",
    "        a = mcd\n",
    "    \n",
    "    print (\"El M.C.D entre\", n, \"y\", m, \"es: \", mcd) "
   ]
  },
  {
   "cell_type": "code",
   "execution_count": null,
   "metadata": {},
   "outputs": [],
   "source": [
    "MCD (12, 18)"
   ]
  },
  {
   "cell_type": "code",
   "execution_count": null,
   "metadata": {},
   "outputs": [],
   "source": [
    "tupla_primos = ()\n",
    "primo = 5,\n",
    "\n",
    "#print (tupla_primos)\n",
    "\n",
    "tupla_primos += primo\n",
    "print (tupla_primos)\n",
    "\n",
    "\n"
   ]
  },
  {
   "cell_type": "code",
   "execution_count": null,
   "metadata": {},
   "outputs": [],
   "source": []
  }
 ],
 "metadata": {
  "kernelspec": {
   "display_name": "Python 3",
   "language": "python",
   "name": "python3"
  },
  "language_info": {
   "codemirror_mode": {
    "name": "ipython",
    "version": 3
   },
   "file_extension": ".py",
   "mimetype": "text/x-python",
   "name": "python",
   "nbconvert_exporter": "python",
   "pygments_lexer": "ipython3",
   "version": "3.6.7"
  }
 },
 "nbformat": 4,
 "nbformat_minor": 2
}
