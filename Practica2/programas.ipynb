{
 "cells": [
  {
   "cell_type": "code",
   "execution_count": 14,
   "metadata": {},
   "outputs": [
    {
     "name": "stdout",
     "output_type": "stream",
     "text": [
      "Verificar si un numero es primo\n",
      "Ingrese un numero: 11\n",
      "No es un numero primo\n"
     ]
    }
   ],
   "source": [
    "print (\"Verificar si un numero es primo\")\n",
    "#Se pide ingresar el numero a verificar\n",
    "n = int (input (\"Ingrese un numero: \"))\n",
    "#Definimos la funcion que verificara si el numero es primo o no\n",
    "def testPrime () :\n",
    "    a = 0 #Sera el acumulable dentro del for para ver cuantas veces se cumple la condicion\n",
    "    \n",
    "    for i in range (1, n+1): #El for inicializara en 1 e ira hasta n+1\n",
    "        if n % i == 0: #Estamos indicando que la condicion del if es que el residuo entre n e i debe ser igual a 0, donde i es todos los numeros anteriores\n",
    "            a = a + 1 #Si el residuo es 0 sumara 1 cada vez que se divida a la variable\n",
    "    \n",
    "    if a != 2: #La condicion indica que si el valor de a es diferente a 2, entonces nos dira que no es primo\n",
    "        print (\"No es un numero primo\")\n",
    "        \n",
    "    else: #Else sera la opcion cuando a es igual a 2, lo que indica que es un numero primo\n",
    "        print (\"Es un numero primo\")           \n",
    "\n",
    "testPrime () #Por ultimo pondremos la funcion para que sea ejecutada"
   ]
  },
  {
   "cell_type": "code",
   "execution_count": 49,
   "metadata": {},
   "outputs": [
    {
     "name": "stdout",
     "output_type": "stream",
     "text": [
      "Primos menores a n\n",
      "Ingrese el valor de n: 80\n",
      "2\n",
      "3\n",
      "5\n",
      "7\n",
      "11\n",
      "13\n",
      "17\n",
      "19\n",
      "23\n",
      "29\n",
      "31\n",
      "37\n",
      "41\n",
      "43\n",
      "47\n",
      "53\n",
      "59\n",
      "61\n",
      "67\n",
      "71\n",
      "73\n",
      "79\n"
     ]
    }
   ],
   "source": [
    "print (\"Primos menores a n\")\n",
    "#Se pide ingresar el valor de n\n",
    "n = int (input (\"Ingrese el valor de n: \"))\n",
    "#Definimos la funcion\n",
    "def prime ():\n",
    "    \n",
    "    for i in range (2, n): #El primero for ira corriendo los numeros inciando en 2 hasta n\n",
    "        for j in range (2, i): #El segundo for entrara a un bucle donde se verificara si el numero es primo o no\n",
    "            if i % j != 0: #La condicion del if es que el residuo entre i y j debe ser diferente a 0\n",
    "                continue #Si es diferente, entonces el bucle if continuara al for porque esto indicara que i es primo\n",
    "            else: #En el caso de que no lo sea, el bucle se rompera, esto indicaria que i no es primo\n",
    "                break\n",
    "        else: #Por ultimo al final del primer for, tenemos acumulables los numero primos\n",
    "            print ('%d' % i) #Lo que indicamos es que imprima los numeros primos \n",
    "            \n",
    "prime () #Finalmente mandamos a llamar a la funcion para ser ejecutada            "
   ]
  },
  {
   "cell_type": "code",
   "execution_count": 47,
   "metadata": {},
   "outputs": [
    {
     "name": "stdout",
     "output_type": "stream",
     "text": [
      "Tupla con los primos gemelos a n\n",
      "Ingrese el valor de n: 11\n",
      "[2]\n",
      "[2, 2]\n",
      "[3]\n",
      "[3, 3]\n",
      "[3, 3, 3]\n",
      "[5]\n",
      "[5, 5]\n",
      "[5, 5, 5]\n",
      "[5, 5, 5, 5]\n",
      "[5, 5, 5, 5, 5]\n",
      "[7]\n",
      "[7, 7]\n",
      "[7, 7, 7]\n",
      "[7, 7, 7, 7]\n",
      "[7, 7, 7, 7, 7]\n",
      "[7, 7, 7, 7, 7, 7]\n",
      "[7, 7, 7, 7, 7, 7, 7]\n"
     ]
    }
   ],
   "source": [
    "print (\"Tupla con los primos gemelos a n\")\n",
    "\n",
    "n = int (input (\"Ingrese el valor de n: \"))\n",
    "\n",
    "def twinPrime ():\n",
    "    i = 0\n",
    "    j = 0\n",
    "    k = 0\n",
    "    \n",
    "    for i in range (2, n): \n",
    "        for j in range (2, i): \n",
    "            if i % j != 0: \n",
    "                continue \n",
    "            else: \n",
    "                break\n",
    "            for k in range (2, j):\n",
    "                if (j - i == 2):\n",
    "                    continue\n",
    "                else:\n",
    "                    break\n",
    "                \n",
    "        else: \n",
    "            a = []\n",
    "            l = 0\n",
    "            for l in range (i):\n",
    "                a.append (i)\n",
    "                print (a)\n",
    "                \n",
    "            \n",
    "twinPrime ()"
   ]
  },
  {
   "cell_type": "code",
   "execution_count": 19,
   "metadata": {},
   "outputs": [
    {
     "name": "stdout",
     "output_type": "stream",
     "text": [
      "Descomposicion en potencias de primos para cualquier n\n",
      "Ingrese el valor de n: 100\n",
      "Las potencias son: \n",
      "2\n",
      "2\n",
      "5\n",
      "5\n"
     ]
    }
   ],
   "source": [
    "print (\"Descomposicion en potencias de primos para cualquier n\")\n",
    "\n",
    "def theoremArithmetic ():\n",
    "    n = int (input (\"Ingrese el valor de n: \"))\n",
    "    x = 2\n",
    "    print (\"Las potencias son: \")\n",
    "    \n",
    "    while (n != 1):\n",
    "        if (n % x == 0):\n",
    "            print (str (x))\n",
    "            n = n / x\n",
    "        \n",
    "        else:\n",
    "            x = x + 1\n",
    "        \n",
    "theoremArithmetic ()\n",
    "    "
   ]
  },
  {
   "cell_type": "code",
   "execution_count": 26,
   "metadata": {},
   "outputs": [
    {
     "name": "stdout",
     "output_type": "stream",
     "text": [
      "Minimo comun multiplo de dos enteros\n",
      "Introduce el primer numero: 12\n",
      "Introduce el segundo numero: 18\n"
     ]
    },
    {
     "data": {
      "text/plain": [
       "36.0"
      ]
     },
     "execution_count": 26,
     "metadata": {},
     "output_type": "execute_result"
    }
   ],
   "source": [
    "print (\"Minimo comun multiplo de dos enteros\")\n",
    "\n",
    "n = int(input(\"Introduce el primer numero: \"))\n",
    "m = int(input(\"Introduce el segundo numero: \"))\n",
    "\n",
    "def MCD (n, m):\n",
    "\n",
    "    a = max(n, m)\n",
    "    b = min(n, m)\n",
    "\n",
    "    while b != 0:\n",
    "        mcd = b\n",
    "        b = a % b\n",
    "        a = mcd\n",
    "    return mcd\n",
    "\n",
    "def mcm(n, m):\n",
    "\n",
    "    a = max(n, m)\n",
    "    b = min(n, m)\n",
    "    \n",
    "    mcm = (a / mcd(a, b)) * b\n",
    "    return mcm\n",
    "    print (\"El M.C.M entre: \", n, \" y \", m, \"es: \", mcm (n, m))\n",
    "    \n",
    "mcm (n, m)"
   ]
  },
  {
   "cell_type": "code",
   "execution_count": null,
   "metadata": {},
   "outputs": [],
   "source": [
    "print (\"Maximo comun divisor de dos enteros\")\n",
    "\n",
    "n = int (input (\"Ingrese el primer numero: \"))\n",
    "m = int (input (\"Ingrese el segundo numero: \"))\n",
    "\n",
    "def MCD ():\n",
    "    mcd = 0\n",
    "    a = max (n, m)\n",
    "    b = min (n, m)\n",
    "    \n",
    "    while (b != 0):\n",
    "        mcd = b\n",
    "        b = a % b\n",
    "        a = mcd\n",
    "    \n",
    "    print (\"El M.C.D entre\", n, \"y\", m, \"es: \", mcd) \n",
    "        \n",
    "MCD ()"
   ]
  },
  {
   "cell_type": "code",
   "execution_count": 5,
   "metadata": {},
   "outputs": [
    {
     "name": "stdout",
     "output_type": "stream",
     "text": [
      "Tupla con los primos gemelos a n\n",
      "Ingrese el valor de n: 11\n",
      "2\n"
     ]
    }
   ],
   "source": [
    "print (\"Tupla con los primos gemelos a n\")\n",
    "\n",
    "n = int (input (\"Ingrese el valor de n: \"))\n",
    "\n",
    "def twinPrime ():\n",
    "    i = 0\n",
    "    j = 0\n",
    "    k = 0\n",
    "    \n",
    "    for i in range (2, n): \n",
    "        for j in range (2, i): \n",
    "            if ((i % j != 0) and (j - i == 2)): \n",
    "                continue \n",
    "            else: \n",
    "                break\n",
    "            #for k in range (2, j):\n",
    "             #   if (j - i == 2):\n",
    "              #      continue\n",
    "               # else:\n",
    "                #    break\n",
    "                \n",
    "        else: \n",
    "            print ('%d' % i)\n",
    "            \n",
    "twinPrime ()"
   ]
  },
  {
   "cell_type": "code",
   "execution_count": 2,
   "metadata": {},
   "outputs": [
    {
     "data": {
      "text/plain": [
       "[2, 4]"
      ]
     },
     "execution_count": 2,
     "metadata": {},
     "output_type": "execute_result"
    }
   ],
   "source": []
  },
  {
   "cell_type": "code",
   "execution_count": null,
   "metadata": {},
   "outputs": [],
   "source": []
  }
 ],
 "metadata": {
  "kernelspec": {
   "display_name": "Python 3",
   "language": "python",
   "name": "python3"
  },
  "language_info": {
   "codemirror_mode": {
    "name": "ipython",
    "version": 3
   },
   "file_extension": ".py",
   "mimetype": "text/x-python",
   "name": "python",
   "nbconvert_exporter": "python",
   "pygments_lexer": "ipython3",
   "version": "3.6.7"
  }
 },
 "nbformat": 4,
 "nbformat_minor": 2
}
